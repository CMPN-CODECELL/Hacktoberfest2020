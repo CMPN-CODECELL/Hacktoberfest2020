{
  "nbformat": 4,
  "nbformat_minor": 0,
  "metadata": {
    "colab": {
      "name": "Iris Dataset Machine Learning.ipynb",
      "provenance": []
    },
    "kernelspec": {
      "name": "python3",
      "display_name": "Python 3"
    }
  },
  "cells": [
    {
      "cell_type": "markdown",
      "metadata": {
        "id": "LEaXRSIAmFay"
      },
      "source": [
        "######The Iris flower data set is a multivariate data set introduced by the British statistician and biologist Ronald Fisher in his 1936 paper The use of multiple measurements in taxonomic problems. The dataset consists of 50 samples from each of three species of Iris (Iris Setosa, Iris virginica, and Iris versicolor). Four features were measured from each sample: the length and the width of the sepals and petals, in centimeters.\n",
        "\n"
      ]
    },
    {
      "cell_type": "markdown",
      "metadata": {
        "id": "JBy1cVThluhu"
      },
      "source": [
        "Import Libraries"
      ]
    },
    {
      "cell_type": "code",
      "metadata": {
        "id": "wnYzIkPDQ0Cr"
      },
      "source": [
        "import numpy as np\n",
        "import pandas as pd \n",
        "from pandas import Series, DataFrame\n",
        "\n",
        "import seaborn as sns\n",
        "import matplotlib.pyplot as plt"
      ],
      "execution_count": 31,
      "outputs": []
    },
    {
      "cell_type": "code",
      "metadata": {
        "id": "E-ftnQDsSUBi"
      },
      "source": [
        "iris = pd.read_csv(\"iris.csv\")"
      ],
      "execution_count": 32,
      "outputs": []
    },
    {
      "cell_type": "code",
      "metadata": {
        "id": "45a-j41kSoWQ",
        "outputId": "e4e73fe7-7011-4407-9b51-f9a34ecba263",
        "colab": {
          "base_uri": "https://localhost:8080/",
          "height": 202
        }
      },
      "source": [
        "iris.head()"
      ],
      "execution_count": 33,
      "outputs": [
        {
          "output_type": "execute_result",
          "data": {
            "text/html": [
              "<div>\n",
              "<style scoped>\n",
              "    .dataframe tbody tr th:only-of-type {\n",
              "        vertical-align: middle;\n",
              "    }\n",
              "\n",
              "    .dataframe tbody tr th {\n",
              "        vertical-align: top;\n",
              "    }\n",
              "\n",
              "    .dataframe thead th {\n",
              "        text-align: right;\n",
              "    }\n",
              "</style>\n",
              "<table border=\"1\" class=\"dataframe\">\n",
              "  <thead>\n",
              "    <tr style=\"text-align: right;\">\n",
              "      <th></th>\n",
              "      <th>Id</th>\n",
              "      <th>SepalLengthCm</th>\n",
              "      <th>SepalWidthCm</th>\n",
              "      <th>PetalLengthCm</th>\n",
              "      <th>PetalWidthCm</th>\n",
              "      <th>Species</th>\n",
              "    </tr>\n",
              "  </thead>\n",
              "  <tbody>\n",
              "    <tr>\n",
              "      <th>0</th>\n",
              "      <td>1</td>\n",
              "      <td>5.1</td>\n",
              "      <td>3.5</td>\n",
              "      <td>1.4</td>\n",
              "      <td>0.2</td>\n",
              "      <td>Iris-setosa</td>\n",
              "    </tr>\n",
              "    <tr>\n",
              "      <th>1</th>\n",
              "      <td>2</td>\n",
              "      <td>4.9</td>\n",
              "      <td>3.0</td>\n",
              "      <td>1.4</td>\n",
              "      <td>0.2</td>\n",
              "      <td>Iris-setosa</td>\n",
              "    </tr>\n",
              "    <tr>\n",
              "      <th>2</th>\n",
              "      <td>3</td>\n",
              "      <td>4.7</td>\n",
              "      <td>3.2</td>\n",
              "      <td>1.3</td>\n",
              "      <td>0.2</td>\n",
              "      <td>Iris-setosa</td>\n",
              "    </tr>\n",
              "    <tr>\n",
              "      <th>3</th>\n",
              "      <td>4</td>\n",
              "      <td>4.6</td>\n",
              "      <td>3.1</td>\n",
              "      <td>1.5</td>\n",
              "      <td>0.2</td>\n",
              "      <td>Iris-setosa</td>\n",
              "    </tr>\n",
              "    <tr>\n",
              "      <th>4</th>\n",
              "      <td>5</td>\n",
              "      <td>5.0</td>\n",
              "      <td>3.6</td>\n",
              "      <td>1.4</td>\n",
              "      <td>0.2</td>\n",
              "      <td>Iris-setosa</td>\n",
              "    </tr>\n",
              "  </tbody>\n",
              "</table>\n",
              "</div>"
            ],
            "text/plain": [
              "   Id  SepalLengthCm  SepalWidthCm  PetalLengthCm  PetalWidthCm      Species\n",
              "0   1            5.1           3.5            1.4           0.2  Iris-setosa\n",
              "1   2            4.9           3.0            1.4           0.2  Iris-setosa\n",
              "2   3            4.7           3.2            1.3           0.2  Iris-setosa\n",
              "3   4            4.6           3.1            1.5           0.2  Iris-setosa\n",
              "4   5            5.0           3.6            1.4           0.2  Iris-setosa"
            ]
          },
          "metadata": {
            "tags": []
          },
          "execution_count": 33
        }
      ]
    },
    {
      "cell_type": "markdown",
      "metadata": {
        "id": "5SrW7AijSzXK"
      },
      "source": [
        "##### *We can see that we have a column named ID that we donot need , so let's drop it !*"
      ]
    },
    {
      "cell_type": "code",
      "metadata": {
        "id": "SAiWmKJZTLcY"
      },
      "source": [
        "iris.drop(\"Id\", axis=1, inplace = True)"
      ],
      "execution_count": 34,
      "outputs": []
    },
    {
      "cell_type": "code",
      "metadata": {
        "id": "uCc3NZt8Ss4L",
        "outputId": "2c8ab708-7f0f-4724-e908-620d8a861a5e",
        "colab": {
          "base_uri": "https://localhost:8080/",
          "height": 225
        }
      },
      "source": [
        "iris.info()"
      ],
      "execution_count": 35,
      "outputs": [
        {
          "output_type": "stream",
          "text": [
            "<class 'pandas.core.frame.DataFrame'>\n",
            "RangeIndex: 150 entries, 0 to 149\n",
            "Data columns (total 5 columns):\n",
            " #   Column         Non-Null Count  Dtype  \n",
            "---  ------         --------------  -----  \n",
            " 0   SepalLengthCm  150 non-null    float64\n",
            " 1   SepalWidthCm   150 non-null    float64\n",
            " 2   PetalLengthCm  150 non-null    float64\n",
            " 3   PetalWidthCm   150 non-null    float64\n",
            " 4   Species        150 non-null    object \n",
            "dtypes: float64(4), object(1)\n",
            "memory usage: 6.0+ KB\n"
          ],
          "name": "stdout"
        }
      ]
    },
    {
      "cell_type": "code",
      "metadata": {
        "id": "H-XKEWq7Swkm",
        "outputId": "71836bc6-e949-4777-f137-d661ae6c3da3",
        "colab": {
          "base_uri": "https://localhost:8080/",
          "height": 295
        }
      },
      "source": [
        "figure = iris[iris.Species == 'Iris-setosa'].plot(kind='scatter', x='SepalLengthCm', y='SepalWidthCm', color='red', label='Setosa')\n",
        "iris[iris.Species == 'Iris-versicolor'].plot(kind='scatter', x='SepalLengthCm', y='SepalWidthCm', color='blue', label='Versicolor', ax=figure)\n",
        "iris[iris.Species == 'Iris-virginica'].plot(kind='scatter', x='SepalLengthCm', y='SepalWidthCm', color='green', label='Virginica', ax=figure)\n",
        "\n",
        "figure.set_xlabel('Sepal Length')\n",
        "figure.set_ylabel('Sepal Width')\n",
        "figure.set_title('Sepal Length Vs Width')\n",
        "\n",
        "figure=plt.gcf()\n",
        "figure.set_size_inches(7, 4)\n",
        "plt.show()"
      ],
      "execution_count": 36,
      "outputs": [
        {
          "output_type": "display_data",
          "data": {
            "image/png": "[encoded data removed]",
            "text/plain": [
              "<Figure size 504x288 with 1 Axes>"
            ]
          },
          "metadata": {
            "tags": [],
            "needs_background": "light"
          }
        }
      ]
    },
    {
      "cell_type": "code",
      "metadata": {
        "id": "EjY-C3itUW8O",
        "outputId": "51a3f98f-600d-47d0-8864-41cd24bd54f8",
        "colab": {
          "base_uri": "https://localhost:8080/",
          "height": 295
        }
      },
      "source": [
        "figure = iris[iris.Species == 'Iris-setosa'].plot(kind='scatter', x='PetalLengthCm', y='PetalWidthCm', color='red', label='Setosa')\n",
        "iris[iris.Species == 'Iris-versicolor'].plot(kind='scatter', x='PetalLengthCm', y='PetalWidthCm', color='blue', label='Versicolor', ax=figure)\n",
        "iris[iris.Species == 'Iris-virginica'].plot(kind='scatter', x='PetalLengthCm', y='PetalWidthCm', color='green', label='Virginica', ax=figure)\n",
        "\n",
        "figure.set_xlabel('Petal Length')\n",
        "figure.set_ylabel('Petal Width')\n",
        "figure.set_title('Petal Length Vs Width')\n",
        "\n",
        "figure=plt.gcf()\n",
        "figure.set_size_inches(7, 4)\n",
        "plt.show()"
      ],
      "execution_count": 37,
      "outputs": [
        {
          "output_type": "display_data",
          "data": {
            "image/png": "[encoded data removed]",
            "text/plain": [
              "<Figure size 504x288 with 1 Axes>"
            ]
          },
          "metadata": {
            "tags": [],
            "needs_background": "light"
          }
        }
      ]
    },
    {
      "cell_type": "code",
      "metadata": {
        "id": "h-S0DGCFVAtc",
        "outputId": "05c8d95c-5211-48d2-aabb-88b80540d1e0",
        "colab": {
          "base_uri": "https://localhost:8080/",
          "height": 625
        }
      },
      "source": [
        "plt.figure(figsize=(15,10))    \n",
        "plt.subplot(2,2,1)    \n",
        "sns.boxplot(x='Species',y='SepalLengthCm',data=iris)    \n",
        "plt.subplot(2,2,2)    \n",
        "sns.boxplot(x='Species',y='SepalWidthCm',data=iris)    \n",
        "plt.subplot(2,2,3)    \n",
        "sns.boxplot(x='Species',y='PetalLengthCm',data=iris)    \n",
        "plt.subplot(2,2,4)    \n",
        "sns.boxplot(x='Species',y='PetalWidthCm',data=iris)  "
      ],
      "execution_count": 53,
      "outputs": [
        {
          "output_type": "execute_result",
          "data": {
            "text/plain": [
              "<matplotlib.axes._subplots.AxesSubplot at 0x7f1bc416b7b8>"
            ]
          },
          "metadata": {
            "tags": []
          },
          "execution_count": 53
        },
        {
          "output_type": "display_data",
          "data": {
            "image/png": "[encoded data removed]",
            "text/plain": [
              "<Figure size 1080x720 with 4 Axes>"
            ]
          },
          "metadata": {
            "tags": [],
            "needs_background": "light"
          }
        }
      ]
    },
    {
      "cell_type": "code",
      "metadata": {
        "id": "iGrJ4cLYZcLj"
      },
      "source": [
        "from sklearn.linear_model import LogisticRegression \n",
        "from sklearn.model_selection import train_test_split\n",
        "from sklearn.neighbors import KNeighborsClassifier \n",
        "from sklearn import svm \n",
        "from sklearn import metrics \n",
        "from sklearn.tree import DecisionTreeClassifier\n",
        "import xgboost as xgb"
      ],
      "execution_count": 54,
      "outputs": []
    },
    {
      "cell_type": "markdown",
      "metadata": {
        "id": "gpvYF8Q3nTMW"
      },
      "source": [
        "Splitting The Data into Training And Testing Dataset"
      ]
    },
    {
      "cell_type": "code",
      "metadata": {
        "id": "wkbvQmAdca-D",
        "outputId": "280a964e-a641-4742-f9b0-96d87321b30c",
        "colab": {
          "base_uri": "https://localhost:8080/",
          "height": 52
        }
      },
      "source": [
        "train, test = train_test_split(iris, test_size=0.2) \n",
        "print(train.shape)\n",
        "print(test.shape)"
      ],
      "execution_count": 40,
      "outputs": [
        {
          "output_type": "stream",
          "text": [
            "(120, 5)\n",
            "(30, 5)\n"
          ],
          "name": "stdout"
        }
      ]
    },
    {
      "cell_type": "code",
      "metadata": {
        "id": "UQIDIQN6eDFj"
      },
      "source": [
        "train_X = train[['SepalLengthCm','SepalWidthCm','PetalLengthCm','PetalWidthCm']] \n",
        "train_y = train.Species \n",
        "\n",
        "test_X = test[['SepalLengthCm','SepalWidthCm','PetalLengthCm','PetalWidthCm']] \n",
        "test_y = test.Species "
      ],
      "execution_count": 42,
      "outputs": []
    },
    {
      "cell_type": "markdown",
      "metadata": {
        "id": "fXgc4sGIfENk"
      },
      "source": [
        "1. Logistic Regression"
      ]
    },
    {
      "cell_type": "code",
      "metadata": {
        "id": "Xvbh7Mspemyl",
        "outputId": "e773a494-0d1e-441f-a885-77c0366c0a2d",
        "colab": {
          "base_uri": "https://localhost:8080/",
          "height": 35
        }
      },
      "source": [
        "model1 = LogisticRegression()\n",
        "model1.fit(train_X, train_y)\n",
        "prediction1 = model1.predict(test_X)\n",
        "print('Accuracy of Logistic Regression is: ', metrics.accuracy_score(prediction1, test_y))"
      ],
      "execution_count": 63,
      "outputs": [
        {
          "output_type": "stream",
          "text": [
            "Accuracy of Logistic Regression is:  0.9333333333333333\n"
          ],
          "name": "stdout"
        }
      ]
    },
    {
      "cell_type": "markdown",
      "metadata": {
        "id": "B0GpQ1shfJGp"
      },
      "source": [
        "2. SVM Classifier"
      ]
    },
    {
      "cell_type": "code",
      "metadata": {
        "id": "eHdUPBOAeaqe",
        "outputId": "69f1b9ab-c183-40b5-be15-1eb41a8d13e2",
        "colab": {
          "base_uri": "https://localhost:8080/",
          "height": 35
        }
      },
      "source": [
        "model2 = svm.SVC() \n",
        "model2.fit(train_X, train_y)\n",
        "prediction2 = model2.predict(test_X)\n",
        "print('Accuracy of SVM is: ', metrics.accuracy_score(prediction2, test_y))"
      ],
      "execution_count": 64,
      "outputs": [
        {
          "output_type": "stream",
          "text": [
            "Accuracy of SVM is:  0.9666666666666667\n"
          ],
          "name": "stdout"
        }
      ]
    },
    {
      "cell_type": "markdown",
      "metadata": {
        "id": "VQ91_9qsfOTU"
      },
      "source": [
        "3. K-Nearest Neighbors"
      ]
    },
    {
      "cell_type": "code",
      "metadata": {
        "id": "-WYnsEnce_IY",
        "outputId": "4e7ec7bf-37c7-4cfa-aa47-3f9dbd3208c1",
        "colab": {
          "base_uri": "https://localhost:8080/",
          "height": 35
        }
      },
      "source": [
        "model3 = KNeighborsClassifier(n_neighbors=3) # this examines 3 neighbors \n",
        "model3.fit(train_X, train_y)\n",
        "prediction3 = model3.predict(test_X)\n",
        "print('Accuracy of KNN is: ', metrics.accuracy_score(prediction3, test_y))"
      ],
      "execution_count": 65,
      "outputs": [
        {
          "output_type": "stream",
          "text": [
            "Accuracy of KNN is:  0.9666666666666667\n"
          ],
          "name": "stdout"
        }
      ]
    },
    {
      "cell_type": "markdown",
      "metadata": {
        "id": "jzeFtgT7f0zJ"
      },
      "source": [
        "4. Decision Tree"
      ]
    },
    {
      "cell_type": "code",
      "metadata": {
        "id": "KcKZu8q5fDTD",
        "outputId": "b5cc7ba9-6392-42be-9f60-d97ad75144d3",
        "colab": {
          "base_uri": "https://localhost:8080/",
          "height": 35
        }
      },
      "source": [
        "model4 = DecisionTreeClassifier()\n",
        "model4.fit(train_X, train_y)\n",
        "prediction4 = model4.predict(test_X)\n",
        "print('Accuracy of Decision Tree is: ', metrics.accuracy_score(prediction4, test_y))"
      ],
      "execution_count": 66,
      "outputs": [
        {
          "output_type": "stream",
          "text": [
            "Accuracy of Decision Tree is:  0.9\n"
          ],
          "name": "stdout"
        }
      ]
    },
    {
      "cell_type": "markdown",
      "metadata": {
        "id": "833nSYeYm5IS"
      },
      "source": [
        "5. XGBoost"
      ]
    },
    {
      "cell_type": "code",
      "metadata": {
        "id": "RP46Op9Xfc8K",
        "outputId": "0bfd64ae-ef6f-4083-e95c-cbe4c53b63cd",
        "colab": {
          "base_uri": "https://localhost:8080/",
          "height": 35
        }
      },
      "source": [
        "model5 = xgb.XGBClassifier()\n",
        "model5.fit(train_X, train_y)\n",
        "prediction5 = model5.predict(test_X)\n",
        "print('Accuracy of xgb classifier is: ', metrics.accuracy_score(prediction5, test_y))"
      ],
      "execution_count": 67,
      "outputs": [
        {
          "output_type": "stream",
          "text": [
            "Accuracy of xgb classifier is:  0.9333333333333333\n"
          ],
          "name": "stdout"
        }
      ]
    }
  ]
}