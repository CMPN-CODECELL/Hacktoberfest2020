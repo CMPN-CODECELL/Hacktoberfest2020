{
 "cells": [
  {
   "cell_type": "code",
   "execution_count": 5,
   "metadata": {},
   "outputs": [],
   "source": [
    "import pandas as pd\n",
    "\n",
    "import matplotlib.pyplot as plt\n"
   ]
  },
  {
   "cell_type": "code",
   "execution_count": 8,
   "metadata": {},
   "outputs": [
    {
     "data": {
      "text/html": [
       "<div>\n",
       "<style scoped>\n",
       "    .dataframe tbody tr th:only-of-type {\n",
       "        vertical-align: middle;\n",
       "    }\n",
       "\n",
       "    .dataframe tbody tr th {\n",
       "        vertical-align: top;\n",
       "    }\n",
       "\n",
       "    .dataframe thead th {\n",
       "        text-align: right;\n",
       "    }\n",
       "</style>\n",
       "<table border=\"1\" class=\"dataframe\">\n",
       "  <thead>\n",
       "    <tr style=\"text-align: right;\">\n",
       "      <th></th>\n",
       "      <th>longitude</th>\n",
       "      <th>latitude</th>\n",
       "      <th>housing_median_age</th>\n",
       "      <th>total_rooms</th>\n",
       "      <th>total_bedrooms</th>\n",
       "      <th>population</th>\n",
       "      <th>households</th>\n",
       "      <th>median_income</th>\n",
       "      <th>median_house_value</th>\n",
       "      <th>ocean_proximity</th>\n",
       "    </tr>\n",
       "  </thead>\n",
       "  <tbody>\n",
       "    <tr>\n",
       "      <th>5490</th>\n",
       "      <td>-118.46</td>\n",
       "      <td>33.98</td>\n",
       "      <td>19.0</td>\n",
       "      <td>2520.0</td>\n",
       "      <td>726.0</td>\n",
       "      <td>964.0</td>\n",
       "      <td>663.0</td>\n",
       "      <td>3.8068</td>\n",
       "      <td>500001.0</td>\n",
       "      <td>&lt;1H OCEAN</td>\n",
       "    </tr>\n",
       "    <tr>\n",
       "      <th>4855</th>\n",
       "      <td>-118.31</td>\n",
       "      <td>34.02</td>\n",
       "      <td>23.0</td>\n",
       "      <td>1703.0</td>\n",
       "      <td>397.0</td>\n",
       "      <td>1333.0</td>\n",
       "      <td>361.0</td>\n",
       "      <td>1.3187</td>\n",
       "      <td>127100.0</td>\n",
       "      <td>&lt;1H OCEAN</td>\n",
       "    </tr>\n",
       "    <tr>\n",
       "      <th>18540</th>\n",
       "      <td>-122.00</td>\n",
       "      <td>36.93</td>\n",
       "      <td>51.0</td>\n",
       "      <td>1616.0</td>\n",
       "      <td>374.0</td>\n",
       "      <td>608.0</td>\n",
       "      <td>302.0</td>\n",
       "      <td>3.1932</td>\n",
       "      <td>400000.0</td>\n",
       "      <td>NEAR OCEAN</td>\n",
       "    </tr>\n",
       "    <tr>\n",
       "      <th>17194</th>\n",
       "      <td>-119.79</td>\n",
       "      <td>34.45</td>\n",
       "      <td>24.0</td>\n",
       "      <td>2746.0</td>\n",
       "      <td>433.0</td>\n",
       "      <td>1076.0</td>\n",
       "      <td>380.0</td>\n",
       "      <td>5.8635</td>\n",
       "      <td>348700.0</td>\n",
       "      <td>NEAR OCEAN</td>\n",
       "    </tr>\n",
       "    <tr>\n",
       "      <th>15162</th>\n",
       "      <td>-117.03</td>\n",
       "      <td>32.96</td>\n",
       "      <td>16.0</td>\n",
       "      <td>3424.0</td>\n",
       "      <td>698.0</td>\n",
       "      <td>1940.0</td>\n",
       "      <td>645.0</td>\n",
       "      <td>4.1210</td>\n",
       "      <td>182100.0</td>\n",
       "      <td>&lt;1H OCEAN</td>\n",
       "    </tr>\n",
       "  </tbody>\n",
       "</table>\n",
       "</div>"
      ],
      "text/plain": [
       "       longitude  latitude  housing_median_age  total_rooms  total_bedrooms  \\\n",
       "5490     -118.46     33.98                19.0       2520.0           726.0   \n",
       "4855     -118.31     34.02                23.0       1703.0           397.0   \n",
       "18540    -122.00     36.93                51.0       1616.0           374.0   \n",
       "17194    -119.79     34.45                24.0       2746.0           433.0   \n",
       "15162    -117.03     32.96                16.0       3424.0           698.0   \n",
       "\n",
       "       population  households  median_income  median_house_value  \\\n",
       "5490        964.0       663.0         3.8068            500001.0   \n",
       "4855       1333.0       361.0         1.3187            127100.0   \n",
       "18540       608.0       302.0         3.1932            400000.0   \n",
       "17194      1076.0       380.0         5.8635            348700.0   \n",
       "15162      1940.0       645.0         4.1210            182100.0   \n",
       "\n",
       "      ocean_proximity  \n",
       "5490        <1H OCEAN  \n",
       "4855        <1H OCEAN  \n",
       "18540      NEAR OCEAN  \n",
       "17194      NEAR OCEAN  \n",
       "15162       <1H OCEAN  "
      ]
     },
     "execution_count": 8,
     "metadata": {},
     "output_type": "execute_result"
    }
   ],
   "source": [
    "housing_data = pd.read_csv('housing.csv')\n",
    "housing_data.sample(5)\n"
   ]
  },
  {
   "cell_type": "code",
   "execution_count": 9,
   "metadata": {},
   "outputs": [
    {
     "data": {
      "text/plain": [
       "(20433, 10)"
      ]
     },
     "execution_count": 9,
     "metadata": {},
     "output_type": "execute_result"
    }
   ],
   "source": [
    "housing_data = housing_data.dropna()\n",
    "housing_data.shape"
   ]
  },
  {
   "cell_type": "code",
   "execution_count": 10,
   "metadata": {},
   "outputs": [
    {
     "data": {
      "text/plain": [
       "longitude             958\n",
       "latitude              958\n",
       "housing_median_age    958\n",
       "total_rooms           958\n",
       "total_bedrooms        958\n",
       "population            958\n",
       "households            958\n",
       "median_income         958\n",
       "median_house_value    958\n",
       "ocean_proximity       958\n",
       "dtype: int64"
      ]
     },
     "execution_count": 10,
     "metadata": {},
     "output_type": "execute_result"
    }
   ],
   "source": [
    "housing_data.loc[housing_data['median_house_value']==500001].count()"
   ]
  },
  {
   "cell_type": "code",
   "execution_count": 13,
   "metadata": {},
   "outputs": [
    {
     "data": {
      "text/plain": [
       "(19475, 10)"
      ]
     },
     "execution_count": 13,
     "metadata": {},
     "output_type": "execute_result"
    }
   ],
   "source": [
    "housing_data = housing_data.drop(housing_data.loc[housing_data['median_house_value']==500001].index)\n",
    "housing_data.shape"
   ]
  },
  {
   "cell_type": "code",
   "execution_count": 14,
   "metadata": {},
   "outputs": [],
   "source": [
    "housing_data = pd.get_dummies(housing_data, columns=['ocean_proximity'])"
   ]
  },
  {
   "cell_type": "code",
   "execution_count": 15,
   "metadata": {},
   "outputs": [
    {
     "data": {
      "text/plain": [
       "(19475, 14)"
      ]
     },
     "execution_count": 15,
     "metadata": {},
     "output_type": "execute_result"
    }
   ],
   "source": [
    "housing_data.shape"
   ]
  },
  {
   "cell_type": "code",
   "execution_count": 16,
   "metadata": {},
   "outputs": [
    {
     "data": {
      "text/plain": [
       "173800.0"
      ]
     },
     "execution_count": 16,
     "metadata": {},
     "output_type": "execute_result"
    }
   ],
   "source": [
    "median = housing_data['median_house_value'].median()\n",
    "median"
   ]
  },
  {
   "cell_type": "code",
   "execution_count": 20,
   "metadata": {},
   "outputs": [
    {
     "data": {
      "text/html": [
       "<div>\n",
       "<style scoped>\n",
       "    .dataframe tbody tr th:only-of-type {\n",
       "        vertical-align: middle;\n",
       "    }\n",
       "\n",
       "    .dataframe tbody tr th {\n",
       "        vertical-align: top;\n",
       "    }\n",
       "\n",
       "    .dataframe thead th {\n",
       "        text-align: right;\n",
       "    }\n",
       "</style>\n",
       "<table border=\"1\" class=\"dataframe\">\n",
       "  <thead>\n",
       "    <tr style=\"text-align: right;\">\n",
       "      <th></th>\n",
       "      <th>longitude</th>\n",
       "      <th>latitude</th>\n",
       "      <th>housing_median_age</th>\n",
       "      <th>total_rooms</th>\n",
       "      <th>total_bedrooms</th>\n",
       "      <th>population</th>\n",
       "      <th>households</th>\n",
       "      <th>median_income</th>\n",
       "      <th>median_house_value</th>\n",
       "      <th>ocean_proximity_&lt;1H OCEAN</th>\n",
       "      <th>ocean_proximity_INLAND</th>\n",
       "      <th>ocean_proximity_ISLAND</th>\n",
       "      <th>ocean_proximity_NEAR BAY</th>\n",
       "      <th>ocean_proximity_NEAR OCEAN</th>\n",
       "      <th>above_median</th>\n",
       "    </tr>\n",
       "  </thead>\n",
       "  <tbody>\n",
       "    <tr>\n",
       "      <th>18374</th>\n",
       "      <td>-121.86</td>\n",
       "      <td>37.23</td>\n",
       "      <td>24.0</td>\n",
       "      <td>4337.0</td>\n",
       "      <td>670.0</td>\n",
       "      <td>1936.0</td>\n",
       "      <td>652.0</td>\n",
       "      <td>5.8904</td>\n",
       "      <td>271400.0</td>\n",
       "      <td>1</td>\n",
       "      <td>0</td>\n",
       "      <td>0</td>\n",
       "      <td>0</td>\n",
       "      <td>0</td>\n",
       "      <td>True</td>\n",
       "    </tr>\n",
       "    <tr>\n",
       "      <th>263</th>\n",
       "      <td>-122.20</td>\n",
       "      <td>37.77</td>\n",
       "      <td>43.0</td>\n",
       "      <td>2430.0</td>\n",
       "      <td>502.0</td>\n",
       "      <td>1537.0</td>\n",
       "      <td>484.0</td>\n",
       "      <td>2.8980</td>\n",
       "      <td>121400.0</td>\n",
       "      <td>0</td>\n",
       "      <td>0</td>\n",
       "      <td>0</td>\n",
       "      <td>1</td>\n",
       "      <td>0</td>\n",
       "      <td>False</td>\n",
       "    </tr>\n",
       "    <tr>\n",
       "      <th>2012</th>\n",
       "      <td>-119.83</td>\n",
       "      <td>36.72</td>\n",
       "      <td>28.0</td>\n",
       "      <td>60.0</td>\n",
       "      <td>10.0</td>\n",
       "      <td>46.0</td>\n",
       "      <td>13.0</td>\n",
       "      <td>4.3500</td>\n",
       "      <td>67500.0</td>\n",
       "      <td>0</td>\n",
       "      <td>1</td>\n",
       "      <td>0</td>\n",
       "      <td>0</td>\n",
       "      <td>0</td>\n",
       "      <td>False</td>\n",
       "    </tr>\n",
       "    <tr>\n",
       "      <th>19069</th>\n",
       "      <td>-122.45</td>\n",
       "      <td>38.27</td>\n",
       "      <td>25.0</td>\n",
       "      <td>5024.0</td>\n",
       "      <td>881.0</td>\n",
       "      <td>1994.0</td>\n",
       "      <td>838.0</td>\n",
       "      <td>4.2237</td>\n",
       "      <td>262300.0</td>\n",
       "      <td>0</td>\n",
       "      <td>0</td>\n",
       "      <td>0</td>\n",
       "      <td>1</td>\n",
       "      <td>0</td>\n",
       "      <td>True</td>\n",
       "    </tr>\n",
       "    <tr>\n",
       "      <th>10186</th>\n",
       "      <td>-117.95</td>\n",
       "      <td>33.87</td>\n",
       "      <td>35.0</td>\n",
       "      <td>1854.0</td>\n",
       "      <td>383.0</td>\n",
       "      <td>1115.0</td>\n",
       "      <td>381.0</td>\n",
       "      <td>4.4784</td>\n",
       "      <td>185200.0</td>\n",
       "      <td>1</td>\n",
       "      <td>0</td>\n",
       "      <td>0</td>\n",
       "      <td>0</td>\n",
       "      <td>0</td>\n",
       "      <td>True</td>\n",
       "    </tr>\n",
       "    <tr>\n",
       "      <th>8413</th>\n",
       "      <td>-118.35</td>\n",
       "      <td>33.94</td>\n",
       "      <td>36.0</td>\n",
       "      <td>2225.0</td>\n",
       "      <td>601.0</td>\n",
       "      <td>2755.0</td>\n",
       "      <td>610.0</td>\n",
       "      <td>2.5547</td>\n",
       "      <td>150400.0</td>\n",
       "      <td>1</td>\n",
       "      <td>0</td>\n",
       "      <td>0</td>\n",
       "      <td>0</td>\n",
       "      <td>0</td>\n",
       "      <td>False</td>\n",
       "    </tr>\n",
       "    <tr>\n",
       "      <th>4150</th>\n",
       "      <td>-118.21</td>\n",
       "      <td>34.12</td>\n",
       "      <td>52.0</td>\n",
       "      <td>1590.0</td>\n",
       "      <td>360.0</td>\n",
       "      <td>1127.0</td>\n",
       "      <td>321.0</td>\n",
       "      <td>3.4625</td>\n",
       "      <td>173900.0</td>\n",
       "      <td>1</td>\n",
       "      <td>0</td>\n",
       "      <td>0</td>\n",
       "      <td>0</td>\n",
       "      <td>0</td>\n",
       "      <td>True</td>\n",
       "    </tr>\n",
       "    <tr>\n",
       "      <th>19913</th>\n",
       "      <td>-119.29</td>\n",
       "      <td>36.31</td>\n",
       "      <td>14.0</td>\n",
       "      <td>2382.0</td>\n",
       "      <td>377.0</td>\n",
       "      <td>1278.0</td>\n",
       "      <td>386.0</td>\n",
       "      <td>5.1896</td>\n",
       "      <td>101900.0</td>\n",
       "      <td>0</td>\n",
       "      <td>1</td>\n",
       "      <td>0</td>\n",
       "      <td>0</td>\n",
       "      <td>0</td>\n",
       "      <td>False</td>\n",
       "    </tr>\n",
       "    <tr>\n",
       "      <th>4015</th>\n",
       "      <td>-118.58</td>\n",
       "      <td>34.15</td>\n",
       "      <td>21.0</td>\n",
       "      <td>3856.0</td>\n",
       "      <td>547.0</td>\n",
       "      <td>1422.0</td>\n",
       "      <td>535.0</td>\n",
       "      <td>8.4196</td>\n",
       "      <td>450700.0</td>\n",
       "      <td>1</td>\n",
       "      <td>0</td>\n",
       "      <td>0</td>\n",
       "      <td>0</td>\n",
       "      <td>0</td>\n",
       "      <td>True</td>\n",
       "    </tr>\n",
       "    <tr>\n",
       "      <th>6214</th>\n",
       "      <td>-117.91</td>\n",
       "      <td>34.07</td>\n",
       "      <td>36.0</td>\n",
       "      <td>1390.0</td>\n",
       "      <td>270.0</td>\n",
       "      <td>887.0</td>\n",
       "      <td>266.0</td>\n",
       "      <td>5.0897</td>\n",
       "      <td>189000.0</td>\n",
       "      <td>1</td>\n",
       "      <td>0</td>\n",
       "      <td>0</td>\n",
       "      <td>0</td>\n",
       "      <td>0</td>\n",
       "      <td>True</td>\n",
       "    </tr>\n",
       "  </tbody>\n",
       "</table>\n",
       "</div>"
      ],
      "text/plain": [
       "       longitude  latitude  housing_median_age  total_rooms  total_bedrooms  \\\n",
       "18374    -121.86     37.23                24.0       4337.0           670.0   \n",
       "263      -122.20     37.77                43.0       2430.0           502.0   \n",
       "2012     -119.83     36.72                28.0         60.0            10.0   \n",
       "19069    -122.45     38.27                25.0       5024.0           881.0   \n",
       "10186    -117.95     33.87                35.0       1854.0           383.0   \n",
       "8413     -118.35     33.94                36.0       2225.0           601.0   \n",
       "4150     -118.21     34.12                52.0       1590.0           360.0   \n",
       "19913    -119.29     36.31                14.0       2382.0           377.0   \n",
       "4015     -118.58     34.15                21.0       3856.0           547.0   \n",
       "6214     -117.91     34.07                36.0       1390.0           270.0   \n",
       "\n",
       "       population  households  median_income  median_house_value  \\\n",
       "18374      1936.0       652.0         5.8904            271400.0   \n",
       "263        1537.0       484.0         2.8980            121400.0   \n",
       "2012         46.0        13.0         4.3500             67500.0   \n",
       "19069      1994.0       838.0         4.2237            262300.0   \n",
       "10186      1115.0       381.0         4.4784            185200.0   \n",
       "8413       2755.0       610.0         2.5547            150400.0   \n",
       "4150       1127.0       321.0         3.4625            173900.0   \n",
       "19913      1278.0       386.0         5.1896            101900.0   \n",
       "4015       1422.0       535.0         8.4196            450700.0   \n",
       "6214        887.0       266.0         5.0897            189000.0   \n",
       "\n",
       "       ocean_proximity_<1H OCEAN  ocean_proximity_INLAND  \\\n",
       "18374                          1                       0   \n",
       "263                            0                       0   \n",
       "2012                           0                       1   \n",
       "19069                          0                       0   \n",
       "10186                          1                       0   \n",
       "8413                           1                       0   \n",
       "4150                           1                       0   \n",
       "19913                          0                       1   \n",
       "4015                           1                       0   \n",
       "6214                           1                       0   \n",
       "\n",
       "       ocean_proximity_ISLAND  ocean_proximity_NEAR BAY  \\\n",
       "18374                       0                         0   \n",
       "263                         0                         1   \n",
       "2012                        0                         0   \n",
       "19069                       0                         1   \n",
       "10186                       0                         0   \n",
       "8413                        0                         0   \n",
       "4150                        0                         0   \n",
       "19913                       0                         0   \n",
       "4015                        0                         0   \n",
       "6214                        0                         0   \n",
       "\n",
       "       ocean_proximity_NEAR OCEAN  above_median  \n",
       "18374                           0          True  \n",
       "263                             0         False  \n",
       "2012                            0         False  \n",
       "19069                           0          True  \n",
       "10186                           0          True  \n",
       "8413                            0         False  \n",
       "4150                            0          True  \n",
       "19913                           0         False  \n",
       "4015                            0          True  \n",
       "6214                            0          True  "
      ]
     },
     "execution_count": 20,
     "metadata": {},
     "output_type": "execute_result"
    }
   ],
   "source": [
    "housing_data['above_median'] = (housing_data['median_house_value'] - median) > 0\n",
    "housing_data.sample(10)"
   ]
  },
  {
   "cell_type": "code",
   "execution_count": 21,
   "metadata": {},
   "outputs": [],
   "source": [
    "X = housing_data.drop(['median_house_value', 'above_median'], axis = 1)\n",
    "Y = housing_data['above_median']"
   ]
  },
  {
   "cell_type": "code",
   "execution_count": 22,
   "metadata": {},
   "outputs": [
    {
     "data": {
      "text/plain": [
       "Index(['longitude', 'latitude', 'housing_median_age', 'total_rooms',\n",
       "       'total_bedrooms', 'population', 'households', 'median_income',\n",
       "       'ocean_proximity_<1H OCEAN', 'ocean_proximity_INLAND',\n",
       "       'ocean_proximity_ISLAND', 'ocean_proximity_NEAR BAY',\n",
       "       'ocean_proximity_NEAR OCEAN'],\n",
       "      dtype='object')"
      ]
     },
     "execution_count": 22,
     "metadata": {},
     "output_type": "execute_result"
    }
   ],
   "source": [
    "X.columns"
   ]
  },
  {
   "cell_type": "code",
   "execution_count": 23,
   "metadata": {},
   "outputs": [],
   "source": [
    "from sklearn.model_selection import train_test_split\n",
    "\n",
    "x_train, x_test, y_train, y_test = train_test_split(X, Y, test_size=0.2)"
   ]
  },
  {
   "cell_type": "code",
   "execution_count": 24,
   "metadata": {},
   "outputs": [],
   "source": [
    "from sklearn.linear_model import LogisticRegression\n",
    "logistic_model  = LogisticRegression(solver='liblinear').fit(x_train,y_train)"
   ]
  },
  {
   "cell_type": "code",
   "execution_count": 25,
   "metadata": {},
   "outputs": [
    {
     "name": "stdout",
     "output_type": "stream",
     "text": [
      "Training_score :  0.8218870346598203\n"
     ]
    }
   ],
   "source": [
    "print('Training_score : ', logistic_model.score(x_train,y_train))"
   ]
  },
  {
   "cell_type": "code",
   "execution_count": 26,
   "metadata": {},
   "outputs": [],
   "source": [
    "y_pred = logistic_model.predict(x_test)"
   ]
  },
  {
   "cell_type": "code",
   "execution_count": 28,
   "metadata": {},
   "outputs": [
    {
     "data": {
      "text/html": [
       "<div>\n",
       "<style scoped>\n",
       "    .dataframe tbody tr th:only-of-type {\n",
       "        vertical-align: middle;\n",
       "    }\n",
       "\n",
       "    .dataframe tbody tr th {\n",
       "        vertical-align: top;\n",
       "    }\n",
       "\n",
       "    .dataframe thead th {\n",
       "        text-align: right;\n",
       "    }\n",
       "</style>\n",
       "<table border=\"1\" class=\"dataframe\">\n",
       "  <thead>\n",
       "    <tr style=\"text-align: right;\">\n",
       "      <th></th>\n",
       "      <th>predicted</th>\n",
       "      <th>actual</th>\n",
       "    </tr>\n",
       "  </thead>\n",
       "  <tbody>\n",
       "    <tr>\n",
       "      <th>19222</th>\n",
       "      <td>True</td>\n",
       "      <td>True</td>\n",
       "    </tr>\n",
       "    <tr>\n",
       "      <th>15579</th>\n",
       "      <td>True</td>\n",
       "      <td>False</td>\n",
       "    </tr>\n",
       "    <tr>\n",
       "      <th>9317</th>\n",
       "      <td>True</td>\n",
       "      <td>True</td>\n",
       "    </tr>\n",
       "    <tr>\n",
       "      <th>9348</th>\n",
       "      <td>True</td>\n",
       "      <td>True</td>\n",
       "    </tr>\n",
       "    <tr>\n",
       "      <th>15321</th>\n",
       "      <td>True</td>\n",
       "      <td>False</td>\n",
       "    </tr>\n",
       "    <tr>\n",
       "      <th>19086</th>\n",
       "      <td>True</td>\n",
       "      <td>True</td>\n",
       "    </tr>\n",
       "    <tr>\n",
       "      <th>9102</th>\n",
       "      <td>False</td>\n",
       "      <td>False</td>\n",
       "    </tr>\n",
       "    <tr>\n",
       "      <th>10964</th>\n",
       "      <td>True</td>\n",
       "      <td>True</td>\n",
       "    </tr>\n",
       "    <tr>\n",
       "      <th>1635</th>\n",
       "      <td>True</td>\n",
       "      <td>True</td>\n",
       "    </tr>\n",
       "    <tr>\n",
       "      <th>12440</th>\n",
       "      <td>False</td>\n",
       "      <td>False</td>\n",
       "    </tr>\n",
       "  </tbody>\n",
       "</table>\n",
       "</div>"
      ],
      "text/plain": [
       "       predicted  actual\n",
       "19222       True    True\n",
       "15579       True   False\n",
       "9317        True    True\n",
       "9348        True    True\n",
       "15321       True   False\n",
       "19086       True    True\n",
       "9102       False   False\n",
       "10964       True    True\n",
       "1635        True    True\n",
       "12440      False   False"
      ]
     },
     "execution_count": 28,
     "metadata": {},
     "output_type": "execute_result"
    }
   ],
   "source": [
    "df = pd.DataFrame({ 'predicted':y_pred, 'actual':y_test})\n",
    "df.head(10)"
   ]
  },
  {
   "cell_type": "code",
   "execution_count": null,
   "metadata": {},
   "outputs": [],
   "source": []
  }
 ],
 "metadata": {
  "kernelspec": {
   "display_name": "Python 3",
   "language": "python",
   "name": "python3"
  },
  "language_info": {
   "codemirror_mode": {
    "name": "ipython",
    "version": 3
   },
   "file_extension": ".py",
   "mimetype": "text/x-python",
   "name": "python",
   "nbconvert_exporter": "python",
   "pygments_lexer": "ipython3",
   "version": "3.8.2"
  }
 },
 "nbformat": 4,
 "nbformat_minor": 4
}
